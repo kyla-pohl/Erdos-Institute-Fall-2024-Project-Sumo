{
 "cells": [
  {
   "cell_type": "markdown",
   "metadata": {},
   "source": [
    "First, we'll make a pandas dataframe."
   ]
  },
  {
   "cell_type": "markdown",
   "metadata": {},
   "source": [
    "We can concatenate to include all of the years of data that we have."
   ]
  },
  {
   "cell_type": "code",
   "execution_count": 8,
   "metadata": {},
   "outputs": [],
   "source": [
    "import pandas as pd\n",
    "#Add the path to the folder that contains the data. Makes it easier for each of use to use the notebook\n",
    "#path = \"/Users/Kyla/Desktop/ErdosDataScienceWork/Project/\"\n",
    "path = \"/Users/es/Projects/erdo/sumo/Erdos-Institute-Fall-2024-Project-Sumo/data/\"\n",
    "\n",
    "df = ["
   ]
  },
  {
   "cell_type": "markdown",
   "metadata": {},
   "source": [
    "Let's concatenate."
   ]
  },
  {
   "cell_type": "code",
   "execution_count": 9,
   "metadata": {},
   "outputs": [
    {
     "ename": "TypeError",
     "evalue": "cannot concatenate object of type '<class 'list'>'; only Series and DataFrame objs are valid",
     "output_type": "error",
     "traceback": [
      "\u001b[0;31m---------------------------------------------------------------------------\u001b[0m",
      "\u001b[0;31mTypeError\u001b[0m                                 Traceback (most recent call last)",
      "Cell \u001b[0;32mIn[9], line 4\u001b[0m\n\u001b[1;32m      2\u001b[0m year \u001b[38;5;241m=\u001b[39m \u001b[38;5;28mstr\u001b[39m(year)\n\u001b[1;32m      3\u001b[0m dfyear \u001b[38;5;241m=\u001b[39m pd\u001b[38;5;241m.\u001b[39mread_csv(path\u001b[38;5;241m+\u001b[39myear\u001b[38;5;241m+\u001b[39m\u001b[38;5;124m'\u001b[39m\u001b[38;5;124m.csv\u001b[39m\u001b[38;5;124m'\u001b[39m)\n\u001b[0;32m----> 4\u001b[0m df \u001b[38;5;241m=\u001b[39m pd\u001b[38;5;241m.\u001b[39mconcat([df, dfyear], axis\u001b[38;5;241m=\u001b[39m\u001b[38;5;241m0\u001b[39m, ignore_index\u001b[38;5;241m=\u001b[39m\u001b[38;5;28;01mTrue\u001b[39;00m)\n",
      "File \u001b[0;32m~/.conda/envs/erdos/lib/python3.12/site-packages/pandas/core/reshape/concat.py:382\u001b[0m, in \u001b[0;36mconcat\u001b[0;34m(objs, axis, join, ignore_index, keys, levels, names, verify_integrity, sort, copy)\u001b[0m\n\u001b[1;32m    379\u001b[0m \u001b[38;5;28;01melif\u001b[39;00m copy \u001b[38;5;129;01mand\u001b[39;00m using_copy_on_write():\n\u001b[1;32m    380\u001b[0m     copy \u001b[38;5;241m=\u001b[39m \u001b[38;5;28;01mFalse\u001b[39;00m\n\u001b[0;32m--> 382\u001b[0m op \u001b[38;5;241m=\u001b[39m _Concatenator(\n\u001b[1;32m    383\u001b[0m     objs,\n\u001b[1;32m    384\u001b[0m     axis\u001b[38;5;241m=\u001b[39maxis,\n\u001b[1;32m    385\u001b[0m     ignore_index\u001b[38;5;241m=\u001b[39mignore_index,\n\u001b[1;32m    386\u001b[0m     join\u001b[38;5;241m=\u001b[39mjoin,\n\u001b[1;32m    387\u001b[0m     keys\u001b[38;5;241m=\u001b[39mkeys,\n\u001b[1;32m    388\u001b[0m     levels\u001b[38;5;241m=\u001b[39mlevels,\n\u001b[1;32m    389\u001b[0m     names\u001b[38;5;241m=\u001b[39mnames,\n\u001b[1;32m    390\u001b[0m     verify_integrity\u001b[38;5;241m=\u001b[39mverify_integrity,\n\u001b[1;32m    391\u001b[0m     copy\u001b[38;5;241m=\u001b[39mcopy,\n\u001b[1;32m    392\u001b[0m     sort\u001b[38;5;241m=\u001b[39msort,\n\u001b[1;32m    393\u001b[0m )\n\u001b[1;32m    395\u001b[0m \u001b[38;5;28;01mreturn\u001b[39;00m op\u001b[38;5;241m.\u001b[39mget_result()\n",
      "File \u001b[0;32m~/.conda/envs/erdos/lib/python3.12/site-packages/pandas/core/reshape/concat.py:448\u001b[0m, in \u001b[0;36m_Concatenator.__init__\u001b[0;34m(self, objs, axis, join, keys, levels, names, ignore_index, verify_integrity, copy, sort)\u001b[0m\n\u001b[1;32m    445\u001b[0m objs, keys \u001b[38;5;241m=\u001b[39m \u001b[38;5;28mself\u001b[39m\u001b[38;5;241m.\u001b[39m_clean_keys_and_objs(objs, keys)\n\u001b[1;32m    447\u001b[0m \u001b[38;5;66;03m# figure out what our result ndim is going to be\u001b[39;00m\n\u001b[0;32m--> 448\u001b[0m ndims \u001b[38;5;241m=\u001b[39m \u001b[38;5;28mself\u001b[39m\u001b[38;5;241m.\u001b[39m_get_ndims(objs)\n\u001b[1;32m    449\u001b[0m sample, objs \u001b[38;5;241m=\u001b[39m \u001b[38;5;28mself\u001b[39m\u001b[38;5;241m.\u001b[39m_get_sample_object(objs, ndims, keys, names, levels)\n\u001b[1;32m    451\u001b[0m \u001b[38;5;66;03m# Standardize axis parameter to int\u001b[39;00m\n",
      "File \u001b[0;32m~/.conda/envs/erdos/lib/python3.12/site-packages/pandas/core/reshape/concat.py:489\u001b[0m, in \u001b[0;36m_Concatenator._get_ndims\u001b[0;34m(self, objs)\u001b[0m\n\u001b[1;32m    484\u001b[0m     \u001b[38;5;28;01mif\u001b[39;00m \u001b[38;5;129;01mnot\u001b[39;00m \u001b[38;5;28misinstance\u001b[39m(obj, (ABCSeries, ABCDataFrame)):\n\u001b[1;32m    485\u001b[0m         msg \u001b[38;5;241m=\u001b[39m (\n\u001b[1;32m    486\u001b[0m             \u001b[38;5;124mf\u001b[39m\u001b[38;5;124m\"\u001b[39m\u001b[38;5;124mcannot concatenate object of type \u001b[39m\u001b[38;5;124m'\u001b[39m\u001b[38;5;132;01m{\u001b[39;00m\u001b[38;5;28mtype\u001b[39m(obj)\u001b[38;5;132;01m}\u001b[39;00m\u001b[38;5;124m'\u001b[39m\u001b[38;5;124m; \u001b[39m\u001b[38;5;124m\"\u001b[39m\n\u001b[1;32m    487\u001b[0m             \u001b[38;5;124m\"\u001b[39m\u001b[38;5;124monly Series and DataFrame objs are valid\u001b[39m\u001b[38;5;124m\"\u001b[39m\n\u001b[1;32m    488\u001b[0m         )\n\u001b[0;32m--> 489\u001b[0m         \u001b[38;5;28;01mraise\u001b[39;00m \u001b[38;5;167;01mTypeError\u001b[39;00m(msg)\n\u001b[1;32m    491\u001b[0m     ndims\u001b[38;5;241m.\u001b[39madd(obj\u001b[38;5;241m.\u001b[39mndim)\n\u001b[1;32m    492\u001b[0m \u001b[38;5;28;01mreturn\u001b[39;00m ndims\n",
      "\u001b[0;31mTypeError\u001b[0m: cannot concatenate object of type '<class 'list'>'; only Series and DataFrame objs are valid"
     ]
    }
   ],
   "source": [
    "df = pd.read_csv(path+year+'.csv')\n",
    "for year in range(1984,2020):\n",
    "    year = str(year)\n",
    "    dfyear = pd.read_csv(path+year+'.csv')\n",
    "    df = pd.concat([df, dfyear], axis=0, ignore_index=True)"
   ]
  },
  {
   "cell_type": "code",
   "execution_count": 4,
   "metadata": {},
   "outputs": [
    {
     "data": {
      "text/html": [
       "<div>\n",
       "<style scoped>\n",
       "    .dataframe tbody tr th:only-of-type {\n",
       "        vertical-align: middle;\n",
       "    }\n",
       "\n",
       "    .dataframe tbody tr th {\n",
       "        vertical-align: top;\n",
       "    }\n",
       "\n",
       "    .dataframe thead th {\n",
       "        text-align: right;\n",
       "    }\n",
       "</style>\n",
       "<table border=\"1\" class=\"dataframe\">\n",
       "  <thead>\n",
       "    <tr style=\"text-align: right;\">\n",
       "      <th></th>\n",
       "      <th>index</th>\n",
       "      <th>basho</th>\n",
       "      <th>day</th>\n",
       "      <th>rikishi1_id</th>\n",
       "      <th>rikishi1_rank</th>\n",
       "      <th>rikishi1_shikona</th>\n",
       "      <th>rikishi1_result</th>\n",
       "      <th>rikishi1_win</th>\n",
       "      <th>kimarite</th>\n",
       "      <th>rikishi2_id</th>\n",
       "      <th>rikishi2_rank</th>\n",
       "      <th>rikishi2_shikona</th>\n",
       "      <th>rikishi2_result</th>\n",
       "      <th>rikishi2_win</th>\n",
       "    </tr>\n",
       "  </thead>\n",
       "  <tbody>\n",
       "    <tr>\n",
       "      <th>0</th>\n",
       "      <td>0</td>\n",
       "      <td>1983.01</td>\n",
       "      <td>1</td>\n",
       "      <td>4140</td>\n",
       "      <td>J13w</td>\n",
       "      <td>Chikubayama</td>\n",
       "      <td>0-1 (7-8)</td>\n",
       "      <td>0</td>\n",
       "      <td>yorikiri</td>\n",
       "      <td>4306</td>\n",
       "      <td>Ms1e</td>\n",
       "      <td>Ofuji</td>\n",
       "      <td>1-0 (6-1)</td>\n",
       "      <td>1</td>\n",
       "    </tr>\n",
       "    <tr>\n",
       "      <th>1</th>\n",
       "      <td>1</td>\n",
       "      <td>1983.01</td>\n",
       "      <td>1</td>\n",
       "      <td>4306</td>\n",
       "      <td>Ms1e</td>\n",
       "      <td>Ofuji</td>\n",
       "      <td>1-0 (6-1)</td>\n",
       "      <td>1</td>\n",
       "      <td>yorikiri</td>\n",
       "      <td>4140</td>\n",
       "      <td>J13w</td>\n",
       "      <td>Chikubayama</td>\n",
       "      <td>0-1 (7-8)</td>\n",
       "      <td>0</td>\n",
       "    </tr>\n",
       "    <tr>\n",
       "      <th>2</th>\n",
       "      <td>2</td>\n",
       "      <td>1983.01</td>\n",
       "      <td>1</td>\n",
       "      <td>1337</td>\n",
       "      <td>J12w</td>\n",
       "      <td>Tochitsukasa</td>\n",
       "      <td>1-0 (9-6)</td>\n",
       "      <td>1</td>\n",
       "      <td>oshidashi</td>\n",
       "      <td>4323</td>\n",
       "      <td>J13e</td>\n",
       "      <td>Shiraiwa</td>\n",
       "      <td>0-1 (3-12)</td>\n",
       "      <td>0</td>\n",
       "    </tr>\n",
       "    <tr>\n",
       "      <th>3</th>\n",
       "      <td>3</td>\n",
       "      <td>1983.01</td>\n",
       "      <td>1</td>\n",
       "      <td>4323</td>\n",
       "      <td>J13e</td>\n",
       "      <td>Shiraiwa</td>\n",
       "      <td>0-1 (3-12)</td>\n",
       "      <td>0</td>\n",
       "      <td>oshidashi</td>\n",
       "      <td>1337</td>\n",
       "      <td>J12w</td>\n",
       "      <td>Tochitsukasa</td>\n",
       "      <td>1-0 (9-6)</td>\n",
       "      <td>1</td>\n",
       "    </tr>\n",
       "    <tr>\n",
       "      <th>4</th>\n",
       "      <td>4</td>\n",
       "      <td>1983.01</td>\n",
       "      <td>1</td>\n",
       "      <td>4097</td>\n",
       "      <td>J12e</td>\n",
       "      <td>Tamakiyama</td>\n",
       "      <td>0-1 (8-7)</td>\n",
       "      <td>0</td>\n",
       "      <td>yorikiri</td>\n",
       "      <td>4319</td>\n",
       "      <td>J11w</td>\n",
       "      <td>Harunafuji</td>\n",
       "      <td>1-0 (5-10)</td>\n",
       "      <td>1</td>\n",
       "    </tr>\n",
       "    <tr>\n",
       "      <th>...</th>\n",
       "      <td>...</td>\n",
       "      <td>...</td>\n",
       "      <td>...</td>\n",
       "      <td>...</td>\n",
       "      <td>...</td>\n",
       "      <td>...</td>\n",
       "      <td>...</td>\n",
       "      <td>...</td>\n",
       "      <td>...</td>\n",
       "      <td>...</td>\n",
       "      <td>...</td>\n",
       "      <td>...</td>\n",
       "      <td>...</td>\n",
       "      <td>...</td>\n",
       "    </tr>\n",
       "    <tr>\n",
       "      <th>214783</th>\n",
       "      <td>4985</td>\n",
       "      <td>2019.09</td>\n",
       "      <td>15</td>\n",
       "      <td>12210</td>\n",
       "      <td>S1e</td>\n",
       "      <td>Mitakeumi</td>\n",
       "      <td>12-3</td>\n",
       "      <td>1</td>\n",
       "      <td>yorikiri</td>\n",
       "      <td>12055</td>\n",
       "      <td>K1w</td>\n",
       "      <td>Endo</td>\n",
       "      <td>8-7</td>\n",
       "      <td>0</td>\n",
       "    </tr>\n",
       "    <tr>\n",
       "      <th>214784</th>\n",
       "      <td>4986</td>\n",
       "      <td>2019.09</td>\n",
       "      <td>15</td>\n",
       "      <td>6468</td>\n",
       "      <td>O1w</td>\n",
       "      <td>Goeido</td>\n",
       "      <td>10-5</td>\n",
       "      <td>1</td>\n",
       "      <td>yorikiri</td>\n",
       "      <td>6599</td>\n",
       "      <td>O2e</td>\n",
       "      <td>Tochinoshin</td>\n",
       "      <td>6-9</td>\n",
       "      <td>0</td>\n",
       "    </tr>\n",
       "    <tr>\n",
       "      <th>214785</th>\n",
       "      <td>4987</td>\n",
       "      <td>2019.09</td>\n",
       "      <td>15</td>\n",
       "      <td>6599</td>\n",
       "      <td>O2e</td>\n",
       "      <td>Tochinoshin</td>\n",
       "      <td>6-9</td>\n",
       "      <td>0</td>\n",
       "      <td>yorikiri</td>\n",
       "      <td>6468</td>\n",
       "      <td>O1w</td>\n",
       "      <td>Goeido</td>\n",
       "      <td>10-5</td>\n",
       "      <td>1</td>\n",
       "    </tr>\n",
       "    <tr>\n",
       "      <th>214786</th>\n",
       "      <td>4988</td>\n",
       "      <td>2019.09</td>\n",
       "      <td>16</td>\n",
       "      <td>12191</td>\n",
       "      <td>S1w</td>\n",
       "      <td>Takakeisho</td>\n",
       "      <td>(12-3)</td>\n",
       "      <td>0</td>\n",
       "      <td>yorikiri</td>\n",
       "      <td>12210</td>\n",
       "      <td>S1e</td>\n",
       "      <td>Mitakeumi</td>\n",
       "      <td>(12-3)</td>\n",
       "      <td>1</td>\n",
       "    </tr>\n",
       "    <tr>\n",
       "      <th>214787</th>\n",
       "      <td>4989</td>\n",
       "      <td>2019.09</td>\n",
       "      <td>16</td>\n",
       "      <td>12210</td>\n",
       "      <td>S1e</td>\n",
       "      <td>Mitakeumi</td>\n",
       "      <td>(12-3)</td>\n",
       "      <td>1</td>\n",
       "      <td>yorikiri</td>\n",
       "      <td>12191</td>\n",
       "      <td>S1w</td>\n",
       "      <td>Takakeisho</td>\n",
       "      <td>(12-3)</td>\n",
       "      <td>0</td>\n",
       "    </tr>\n",
       "  </tbody>\n",
       "</table>\n",
       "<p>214788 rows × 14 columns</p>\n",
       "</div>"
      ],
      "text/plain": [
       "        index    basho  day  rikishi1_id rikishi1_rank rikishi1_shikona  \\\n",
       "0           0  1983.01    1         4140          J13w      Chikubayama   \n",
       "1           1  1983.01    1         4306          Ms1e            Ofuji   \n",
       "2           2  1983.01    1         1337          J12w     Tochitsukasa   \n",
       "3           3  1983.01    1         4323          J13e         Shiraiwa   \n",
       "4           4  1983.01    1         4097          J12e       Tamakiyama   \n",
       "...       ...      ...  ...          ...           ...              ...   \n",
       "214783   4985  2019.09   15        12210           S1e        Mitakeumi   \n",
       "214784   4986  2019.09   15         6468           O1w           Goeido   \n",
       "214785   4987  2019.09   15         6599           O2e      Tochinoshin   \n",
       "214786   4988  2019.09   16        12191           S1w       Takakeisho   \n",
       "214787   4989  2019.09   16        12210           S1e        Mitakeumi   \n",
       "\n",
       "       rikishi1_result  rikishi1_win   kimarite  rikishi2_id rikishi2_rank  \\\n",
       "0            0-1 (7-8)             0   yorikiri         4306          Ms1e   \n",
       "1            1-0 (6-1)             1   yorikiri         4140          J13w   \n",
       "2            1-0 (9-6)             1  oshidashi         4323          J13e   \n",
       "3           0-1 (3-12)             0  oshidashi         1337          J12w   \n",
       "4            0-1 (8-7)             0   yorikiri         4319          J11w   \n",
       "...                ...           ...        ...          ...           ...   \n",
       "214783            12-3             1   yorikiri        12055           K1w   \n",
       "214784            10-5             1   yorikiri         6599           O2e   \n",
       "214785             6-9             0   yorikiri         6468           O1w   \n",
       "214786          (12-3)             0   yorikiri        12210           S1e   \n",
       "214787          (12-3)             1   yorikiri        12191           S1w   \n",
       "\n",
       "       rikishi2_shikona rikishi2_result  rikishi2_win  \n",
       "0                 Ofuji       1-0 (6-1)             1  \n",
       "1           Chikubayama       0-1 (7-8)             0  \n",
       "2              Shiraiwa      0-1 (3-12)             0  \n",
       "3          Tochitsukasa       1-0 (9-6)             1  \n",
       "4            Harunafuji      1-0 (5-10)             1  \n",
       "...                 ...             ...           ...  \n",
       "214783             Endo             8-7             0  \n",
       "214784      Tochinoshin             6-9             0  \n",
       "214785           Goeido            10-5             1  \n",
       "214786        Mitakeumi          (12-3)             1  \n",
       "214787       Takakeisho          (12-3)             0  \n",
       "\n",
       "[214788 rows x 14 columns]"
      ]
     },
     "execution_count": 4,
     "metadata": {},
     "output_type": "execute_result"
    }
   ],
   "source": [
    "df"
   ]
  },
  {
   "cell_type": "markdown",
   "metadata": {},
   "source": [
    "Note that rikishi1_rank tells us the ranking of each wrestler according to the standar sumo ranking system. I would like to add a column to this data frame describing the \"non-sumo\" ranking. So, the best wrestler is ranked 1, etc. I think the only (?) way to do this is to work with the strings in the rikishi1_rank column. The first letter tells us the general group that each wrestler is in, so let's first pick out all the ones in the top group, i.e. the group that begins with M."
   ]
  },
  {
   "cell_type": "markdown",
   "metadata": {},
   "source": [
    "I'm just testing this."
   ]
  },
  {
   "cell_type": "code",
   "execution_count": 5,
   "metadata": {},
   "outputs": [
    {
     "data": {
      "text/plain": [
       "'J'"
      ]
     },
     "execution_count": 5,
     "metadata": {},
     "output_type": "execute_result"
    }
   ],
   "source": [
    "\n",
    "df['rikishi1_rank'][3][0]"
   ]
  },
  {
   "cell_type": "markdown",
   "metadata": {},
   "source": [
    "When I run this next cell, something is wrong with M_sorted_dict: all the keys are the same! But M_ranking_dict is just fine. What am I doing wrong? "
   ]
  },
  {
   "cell_type": "code",
   "execution_count": 6,
   "metadata": {},
   "outputs": [],
   "source": [
    "M_ranking_list = [] # This list will contain the indices of the wrestler's whose ranking begins with M (and isn't followed by an s).\n",
    "for index in range(214779):\n",
    "    if df['rikishi1_rank'][index][0] == 'M':\n",
    "        if df['rikishi1_rank'][index][1] != 's':\n",
    "            M_ranking_list.append(index)\n",
    "\n",
    "M_ranking_dict = {} # We can use the list we just made to make a dictionary where the keys are the indices and the values are the sumo rankings. \n",
    "for i in M_ranking_list:\n",
    "    M_ranking_dict[i] = df['rikishi1_rank'][i]\n",
    "\n",
    "M_sorted_dict = dict(sorted(M_ranking_dict.items(), key=lambda item: item[1])) # Now I'd like to sort this dictionary by its values.\n",
    "# Alas, something is wrong. After I run this, the keys in M_sorted_dict are all the same!"
   ]
  },
  {
   "cell_type": "markdown",
   "metadata": {},
   "source": [
    "Once I figure this out, I'm going to have to (1) do this for the other rankings like J, Ms, etc. and then put each of those in order and (2) go back to the pre-concatenated data frames and add these rankings to each one."
   ]
  },
  {
   "cell_type": "markdown",
   "metadata": {},
   "source": [
    "Perhaps we can forget all of this. Is there a nicer way of adding a \"non-sumo\" rankings column?"
   ]
  },
  {
   "cell_type": "code",
   "execution_count": null,
   "metadata": {},
   "outputs": [],
   "source": []
  },
  {
   "cell_type": "code",
   "execution_count": null,
   "metadata": {},
   "outputs": [],
   "source": []
  },
  {
   "cell_type": "code",
   "execution_count": null,
   "metadata": {},
   "outputs": [],
   "source": []
  }
 ],
 "metadata": {
  "kernelspec": {
   "display_name": "Python 3 (ipykernel)",
   "language": "python",
   "name": "python3"
  },
  "language_info": {
   "codemirror_mode": {
    "name": "ipython",
    "version": 3
   },
   "file_extension": ".py",
   "mimetype": "text/x-python",
   "name": "python",
   "nbconvert_exporter": "python",
   "pygments_lexer": "ipython3",
   "version": "3.12.7"
  }
 },
 "nbformat": 4,
 "nbformat_minor": 4
}
